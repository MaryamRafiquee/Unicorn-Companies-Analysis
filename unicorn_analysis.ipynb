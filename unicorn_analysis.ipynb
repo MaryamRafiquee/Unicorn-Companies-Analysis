{
 "cells": [
  {
   "cell_type": "markdown",
   "id": "96b1af56",
   "metadata": {},
   "source": [
    "# Business Task"
   ]
  },
  {
   "cell_type": "markdown",
   "id": "31243fb9",
   "metadata": {},
   "source": [
    "Our objective is to analyze data on over 1,000 unicorn companies, those valued at over one billion dollars, to provide actionable insights to an investing firm. The goal is to understand patterns and factors that contribute to companies achieving unicorn status, thereby informing and optimizing the firm's future investment strategies. We will deliver recommendations based on these insights to help the firm identify high-potential companies and investment opportunities."
   ]
  },
  {
   "cell_type": "code",
   "execution_count": 1,
   "id": "b16580ca",
   "metadata": {},
   "outputs": [],
   "source": [
    "import pandas as pd \n",
    "import numpy as np\n",
    "import seaborn as sns\n",
    "import matplotlib.pyplot as plt"
   ]
  },
  {
   "cell_type": "code",
   "execution_count": 2,
   "id": "2f95f66f",
   "metadata": {},
   "outputs": [],
   "source": [
    "companies = pd.read_csv(\"Unicorn_Companies.csv\")"
   ]
  },
  {
   "cell_type": "markdown",
   "id": "7f77cfad",
   "metadata": {},
   "source": [
    "## Data exploration "
   ]
  },
  {
   "cell_type": "code",
   "execution_count": 3,
   "id": "a45fcea1",
   "metadata": {},
   "outputs": [
    {
     "data": {
      "text/html": [
       "<div>\n",
       "<style scoped>\n",
       "    .dataframe tbody tr th:only-of-type {\n",
       "        vertical-align: middle;\n",
       "    }\n",
       "\n",
       "    .dataframe tbody tr th {\n",
       "        vertical-align: top;\n",
       "    }\n",
       "\n",
       "    .dataframe thead th {\n",
       "        text-align: right;\n",
       "    }\n",
       "</style>\n",
       "<table border=\"1\" class=\"dataframe\">\n",
       "  <thead>\n",
       "    <tr style=\"text-align: right;\">\n",
       "      <th></th>\n",
       "      <th>Company</th>\n",
       "      <th>Valuation</th>\n",
       "      <th>Date Joined</th>\n",
       "      <th>Industry</th>\n",
       "      <th>City</th>\n",
       "      <th>Country/Region</th>\n",
       "      <th>Continent</th>\n",
       "      <th>Year Founded</th>\n",
       "      <th>Funding</th>\n",
       "      <th>Select Investors</th>\n",
       "    </tr>\n",
       "  </thead>\n",
       "  <tbody>\n",
       "    <tr>\n",
       "      <th>0</th>\n",
       "      <td>Bytedance</td>\n",
       "      <td>$180B</td>\n",
       "      <td>4/7/17</td>\n",
       "      <td>Artificial intelligence</td>\n",
       "      <td>Beijing</td>\n",
       "      <td>China</td>\n",
       "      <td>Asia</td>\n",
       "      <td>2012</td>\n",
       "      <td>$8B</td>\n",
       "      <td>Sequoia Capital China, SIG Asia Investments, S...</td>\n",
       "    </tr>\n",
       "    <tr>\n",
       "      <th>1</th>\n",
       "      <td>SpaceX</td>\n",
       "      <td>$100B</td>\n",
       "      <td>12/1/12</td>\n",
       "      <td>Other</td>\n",
       "      <td>Hawthorne</td>\n",
       "      <td>United States</td>\n",
       "      <td>North America</td>\n",
       "      <td>2002</td>\n",
       "      <td>$7B</td>\n",
       "      <td>Founders Fund, Draper Fisher Jurvetson, Rothen...</td>\n",
       "    </tr>\n",
       "    <tr>\n",
       "      <th>2</th>\n",
       "      <td>SHEIN</td>\n",
       "      <td>$100B</td>\n",
       "      <td>7/3/18</td>\n",
       "      <td>E-commerce &amp; direct-to-consumer</td>\n",
       "      <td>Shenzhen</td>\n",
       "      <td>China</td>\n",
       "      <td>Asia</td>\n",
       "      <td>2008</td>\n",
       "      <td>$2B</td>\n",
       "      <td>Tiger Global Management, Sequoia Capital China...</td>\n",
       "    </tr>\n",
       "    <tr>\n",
       "      <th>3</th>\n",
       "      <td>Stripe</td>\n",
       "      <td>$95B</td>\n",
       "      <td>1/23/14</td>\n",
       "      <td>Fintech</td>\n",
       "      <td>San Francisco</td>\n",
       "      <td>United States</td>\n",
       "      <td>North America</td>\n",
       "      <td>2010</td>\n",
       "      <td>$2B</td>\n",
       "      <td>Khosla Ventures, LowercaseCapital, capitalG</td>\n",
       "    </tr>\n",
       "    <tr>\n",
       "      <th>4</th>\n",
       "      <td>Klarna</td>\n",
       "      <td>$46B</td>\n",
       "      <td>12/12/11</td>\n",
       "      <td>Fintech</td>\n",
       "      <td>Stockholm</td>\n",
       "      <td>Sweden</td>\n",
       "      <td>Europe</td>\n",
       "      <td>2005</td>\n",
       "      <td>$4B</td>\n",
       "      <td>Institutional Venture Partners, Sequoia Capita...</td>\n",
       "    </tr>\n",
       "  </tbody>\n",
       "</table>\n",
       "</div>"
      ],
      "text/plain": [
       "     Company Valuation Date Joined                         Industry  \\\n",
       "0  Bytedance     $180B      4/7/17          Artificial intelligence   \n",
       "1     SpaceX     $100B     12/1/12                            Other   \n",
       "2      SHEIN     $100B      7/3/18  E-commerce & direct-to-consumer   \n",
       "3     Stripe      $95B     1/23/14                          Fintech   \n",
       "4     Klarna      $46B    12/12/11                          Fintech   \n",
       "\n",
       "            City Country/Region      Continent  Year Founded Funding  \\\n",
       "0        Beijing          China           Asia          2012     $8B   \n",
       "1      Hawthorne  United States  North America          2002     $7B   \n",
       "2       Shenzhen          China           Asia          2008     $2B   \n",
       "3  San Francisco  United States  North America          2010     $2B   \n",
       "4      Stockholm         Sweden         Europe          2005     $4B   \n",
       "\n",
       "                                    Select Investors  \n",
       "0  Sequoia Capital China, SIG Asia Investments, S...  \n",
       "1  Founders Fund, Draper Fisher Jurvetson, Rothen...  \n",
       "2  Tiger Global Management, Sequoia Capital China...  \n",
       "3        Khosla Ventures, LowercaseCapital, capitalG  \n",
       "4  Institutional Venture Partners, Sequoia Capita...  "
      ]
     },
     "execution_count": 3,
     "metadata": {},
     "output_type": "execute_result"
    }
   ],
   "source": [
    "companies.head()"
   ]
  },
  {
   "cell_type": "code",
   "execution_count": 4,
   "id": "94d7b3b2",
   "metadata": {},
   "outputs": [
    {
     "data": {
      "text/plain": [
       "10740"
      ]
     },
     "execution_count": 4,
     "metadata": {},
     "output_type": "execute_result"
    }
   ],
   "source": [
    "np.size(companies)"
   ]
  },
  {
   "cell_type": "code",
   "execution_count": 5,
   "id": "34d2bb1c",
   "metadata": {},
   "outputs": [
    {
     "data": {
      "text/plain": [
       "(1074, 10)"
      ]
     },
     "execution_count": 5,
     "metadata": {},
     "output_type": "execute_result"
    }
   ],
   "source": [
    "np.shape(companies)"
   ]
  },
  {
   "cell_type": "code",
   "execution_count": 6,
   "id": "1a60b31f",
   "metadata": {},
   "outputs": [
    {
     "name": "stdout",
     "output_type": "stream",
     "text": [
      "<class 'pandas.core.frame.DataFrame'>\n",
      "RangeIndex: 1074 entries, 0 to 1073\n",
      "Data columns (total 10 columns):\n",
      " #   Column            Non-Null Count  Dtype \n",
      "---  ------            --------------  ----- \n",
      " 0   Company           1074 non-null   object\n",
      " 1   Valuation         1074 non-null   object\n",
      " 2   Date Joined       1074 non-null   object\n",
      " 3   Industry          1074 non-null   object\n",
      " 4   City              1058 non-null   object\n",
      " 5   Country/Region    1074 non-null   object\n",
      " 6   Continent         1074 non-null   object\n",
      " 7   Year Founded      1074 non-null   int64 \n",
      " 8   Funding           1074 non-null   object\n",
      " 9   Select Investors  1073 non-null   object\n",
      "dtypes: int64(1), object(9)\n",
      "memory usage: 84.0+ KB\n"
     ]
    }
   ],
   "source": [
    "companies.info()"
   ]
  },
  {
   "cell_type": "code",
   "execution_count": 7,
   "id": "5bdf8e85",
   "metadata": {},
   "outputs": [
    {
     "data": {
      "text/plain": [
       "Company             object\n",
       "Valuation           object\n",
       "Date Joined         object\n",
       "Industry            object\n",
       "City                object\n",
       "Country/Region      object\n",
       "Continent           object\n",
       "Year Founded         int64\n",
       "Funding             object\n",
       "Select Investors    object\n",
       "dtype: object"
      ]
     },
     "execution_count": 7,
     "metadata": {},
     "output_type": "execute_result"
    }
   ],
   "source": [
    "companies.dtypes"
   ]
  },
  {
   "cell_type": "code",
   "execution_count": 8,
   "id": "318c50ae",
   "metadata": {},
   "outputs": [
    {
     "data": {
      "text/plain": [
       "0"
      ]
     },
     "execution_count": 8,
     "metadata": {},
     "output_type": "execute_result"
    }
   ],
   "source": [
    "companies.duplicated().sum()"
   ]
  },
  {
   "cell_type": "code",
   "execution_count": 9,
   "id": "360e3236",
   "metadata": {},
   "outputs": [
    {
     "data": {
      "text/plain": [
       "Company              0\n",
       "Valuation            0\n",
       "Date Joined          0\n",
       "Industry             0\n",
       "City                16\n",
       "Country/Region       0\n",
       "Continent            0\n",
       "Year Founded         0\n",
       "Funding              0\n",
       "Select Investors     1\n",
       "dtype: int64"
      ]
     },
     "execution_count": 9,
     "metadata": {},
     "output_type": "execute_result"
    }
   ],
   "source": [
    "companies.isnull().sum()"
   ]
  },
  {
   "cell_type": "code",
   "execution_count": 10,
   "id": "437323b5",
   "metadata": {},
   "outputs": [
    {
     "data": {
      "text/html": [
       "<div>\n",
       "<style scoped>\n",
       "    .dataframe tbody tr th:only-of-type {\n",
       "        vertical-align: middle;\n",
       "    }\n",
       "\n",
       "    .dataframe tbody tr th {\n",
       "        vertical-align: top;\n",
       "    }\n",
       "\n",
       "    .dataframe thead th {\n",
       "        text-align: right;\n",
       "    }\n",
       "</style>\n",
       "<table border=\"1\" class=\"dataframe\">\n",
       "  <thead>\n",
       "    <tr style=\"text-align: right;\">\n",
       "      <th></th>\n",
       "      <th>Year Founded</th>\n",
       "    </tr>\n",
       "  </thead>\n",
       "  <tbody>\n",
       "    <tr>\n",
       "      <th>count</th>\n",
       "      <td>1074.000000</td>\n",
       "    </tr>\n",
       "    <tr>\n",
       "      <th>mean</th>\n",
       "      <td>2012.895717</td>\n",
       "    </tr>\n",
       "    <tr>\n",
       "      <th>std</th>\n",
       "      <td>5.698573</td>\n",
       "    </tr>\n",
       "    <tr>\n",
       "      <th>min</th>\n",
       "      <td>1919.000000</td>\n",
       "    </tr>\n",
       "    <tr>\n",
       "      <th>25%</th>\n",
       "      <td>2011.000000</td>\n",
       "    </tr>\n",
       "    <tr>\n",
       "      <th>50%</th>\n",
       "      <td>2014.000000</td>\n",
       "    </tr>\n",
       "    <tr>\n",
       "      <th>75%</th>\n",
       "      <td>2016.000000</td>\n",
       "    </tr>\n",
       "    <tr>\n",
       "      <th>max</th>\n",
       "      <td>2021.000000</td>\n",
       "    </tr>\n",
       "  </tbody>\n",
       "</table>\n",
       "</div>"
      ],
      "text/plain": [
       "       Year Founded\n",
       "count   1074.000000\n",
       "mean    2012.895717\n",
       "std        5.698573\n",
       "min     1919.000000\n",
       "25%     2011.000000\n",
       "50%     2014.000000\n",
       "75%     2016.000000\n",
       "max     2021.000000"
      ]
     },
     "execution_count": 10,
     "metadata": {},
     "output_type": "execute_result"
    }
   ],
   "source": [
    "companies.describe()"
   ]
  },
  {
   "cell_type": "code",
   "execution_count": 11,
   "id": "bf9c8205",
   "metadata": {},
   "outputs": [
    {
     "data": {
      "text/plain": [
       "array(['Artificial intelligence', 'Other',\n",
       "       'E-commerce & direct-to-consumer', 'Fintech',\n",
       "       'Internet software & services',\n",
       "       'Supply chain, logistics, & delivery', 'Consumer & retail',\n",
       "       'Data management & analytics', 'Edtech', 'Health', 'Hardware',\n",
       "       'Auto & transportation', 'Travel', 'Cybersecurity',\n",
       "       'Mobile & telecommunications', 'Artificial Intelligence'],\n",
       "      dtype=object)"
      ]
     },
     "execution_count": 11,
     "metadata": {},
     "output_type": "execute_result"
    }
   ],
   "source": [
    "companies['Industry'].unique()"
   ]
  },
  {
   "cell_type": "code",
   "execution_count": 12,
   "id": "94912058",
   "metadata": {},
   "outputs": [
    {
     "data": {
      "text/plain": [
       "array(['Asia', 'North America', 'Europe', 'Oceania', 'South America',\n",
       "       'Africa'], dtype=object)"
      ]
     },
     "execution_count": 12,
     "metadata": {},
     "output_type": "execute_result"
    }
   ],
   "source": [
    "companies['Continent'].unique()"
   ]
  },
  {
   "cell_type": "code",
   "execution_count": 13,
   "id": "9610388c",
   "metadata": {},
   "outputs": [
    {
     "data": {
      "text/plain": [
       "North America    589\n",
       "Asia             310\n",
       "Europe           143\n",
       "South America     21\n",
       "Oceania            8\n",
       "Africa             3\n",
       "Name: Continent, dtype: int64"
      ]
     },
     "execution_count": 13,
     "metadata": {},
     "output_type": "execute_result"
    }
   ],
   "source": [
    "companies['Continent'].value_counts()"
   ]
  },
  {
   "cell_type": "code",
   "execution_count": 14,
   "id": "c6c4b036",
   "metadata": {},
   "outputs": [
    {
     "data": {
      "text/plain": [
       "array(['China', 'United States', 'Sweden', 'Australia', 'United Kingdom',\n",
       "       'Bahamas', 'India', 'Indonesia', 'Turkey', 'Estonia', 'Germany',\n",
       "       'Hong Kong', 'South Korea', 'Mexico', 'Canada', 'Netherlands',\n",
       "       'France', 'Finland', 'Israel', 'Lithuania', 'Denmark', 'Belgium',\n",
       "       'Colombia', 'Brazil', 'Singapore', 'Austria', 'Ireland',\n",
       "       'United Arab Emirates', 'Switzerland', 'Vietnam', 'South Africa',\n",
       "       'Thailand', 'Norway', 'Chile', 'Argentina', 'Bermuda', 'Japan',\n",
       "       'Spain', 'Malaysia', 'Senegal', 'Philippines', 'Luxembourg',\n",
       "       'Nigeria', 'Czech Republic', 'Croatia', 'Italy'], dtype=object)"
      ]
     },
     "execution_count": 14,
     "metadata": {},
     "output_type": "execute_result"
    }
   ],
   "source": [
    "companies['Country/Region'].unique()"
   ]
  },
  {
   "cell_type": "markdown",
   "id": "4142ad56",
   "metadata": {},
   "source": [
    "## Data Cleaning"
   ]
  },
  {
   "cell_type": "code",
   "execution_count": 15,
   "id": "79c4d23f",
   "metadata": {},
   "outputs": [
    {
     "data": {
      "text/plain": [
       "Company                     object\n",
       "Valuation                   object\n",
       "Date Joined         datetime64[ns]\n",
       "Industry                    object\n",
       "City                        object\n",
       "Country/Region              object\n",
       "Continent                   object\n",
       "Year Founded                 int64\n",
       "Funding                     object\n",
       "Select Investors            object\n",
       "dtype: object"
      ]
     },
     "execution_count": 15,
     "metadata": {},
     "output_type": "execute_result"
    }
   ],
   "source": [
    "companies['Date Joined'] = pd.to_datetime(companies['Date Joined'])\n",
    "companies.dtypes"
   ]
  },
  {
   "cell_type": "code",
   "execution_count": 16,
   "id": "7a73b115",
   "metadata": {},
   "outputs": [
    {
     "data": {
      "text/plain": [
       "array(['Artificial Intelligence', 'Other',\n",
       "       'E-commerce & direct-to-consumer', 'Fintech',\n",
       "       'Internet software & services',\n",
       "       'Supply chain, logistics, & delivery', 'Consumer & retail',\n",
       "       'Data management & analytics', 'Edtech', 'Health', 'Hardware',\n",
       "       'Auto & transportation', 'Travel', 'Cybersecurity',\n",
       "       'Mobile & telecommunications'], dtype=object)"
      ]
     },
     "execution_count": 16,
     "metadata": {},
     "output_type": "execute_result"
    }
   ],
   "source": [
    "companies['Industry'] = companies['Industry'].replace('Artificial intelligence', 'Artificial Intelligence')\n",
    "companies['Industry'].unique()"
   ]
  },
  {
   "cell_type": "code",
   "execution_count": 17,
   "id": "d8f12db6",
   "metadata": {},
   "outputs": [
    {
     "data": {
      "text/plain": [
       "Company             0\n",
       "Valuation           0\n",
       "Date Joined         0\n",
       "Industry            0\n",
       "City                0\n",
       "Country/Region      0\n",
       "Continent           0\n",
       "Year Founded        0\n",
       "Funding             0\n",
       "Select Investors    0\n",
       "dtype: int64"
      ]
     },
     "execution_count": 17,
     "metadata": {},
     "output_type": "execute_result"
    }
   ],
   "source": [
    "companies['City'] = companies['City'].fillna('Unknown')\n",
    "companies['Select Investors'] = companies['Select Investors'].fillna('Unknown')\n",
    "\n",
    "companies.isnull().sum()"
   ]
  },
  {
   "cell_type": "code",
   "execution_count": 18,
   "id": "962cb213",
   "metadata": {},
   "outputs": [
    {
     "data": {
      "text/html": [
       "<div>\n",
       "<style scoped>\n",
       "    .dataframe tbody tr th:only-of-type {\n",
       "        vertical-align: middle;\n",
       "    }\n",
       "\n",
       "    .dataframe tbody tr th {\n",
       "        vertical-align: top;\n",
       "    }\n",
       "\n",
       "    .dataframe thead th {\n",
       "        text-align: right;\n",
       "    }\n",
       "</style>\n",
       "<table border=\"1\" class=\"dataframe\">\n",
       "  <thead>\n",
       "    <tr style=\"text-align: right;\">\n",
       "      <th></th>\n",
       "      <th>Company</th>\n",
       "      <th>Valuation</th>\n",
       "      <th>Date Joined</th>\n",
       "      <th>Industry</th>\n",
       "      <th>City</th>\n",
       "      <th>Country/Region</th>\n",
       "      <th>Continent</th>\n",
       "      <th>Year Founded</th>\n",
       "      <th>Funding</th>\n",
       "      <th>Select Investors</th>\n",
       "    </tr>\n",
       "  </thead>\n",
       "  <tbody>\n",
       "    <tr>\n",
       "      <th>215</th>\n",
       "      <td>SSENSE</td>\n",
       "      <td>$4B</td>\n",
       "      <td>2021-06-08</td>\n",
       "      <td>E-commerce &amp; direct-to-consumer</td>\n",
       "      <td>Montreal</td>\n",
       "      <td>Canada</td>\n",
       "      <td>North America</td>\n",
       "      <td>2003</td>\n",
       "      <td>Unknown</td>\n",
       "      <td>Sequoia Capital</td>\n",
       "    </tr>\n",
       "    <tr>\n",
       "      <th>424</th>\n",
       "      <td>Uplight</td>\n",
       "      <td>$2B</td>\n",
       "      <td>2021-03-03</td>\n",
       "      <td>Other</td>\n",
       "      <td>Boulder</td>\n",
       "      <td>United States</td>\n",
       "      <td>North America</td>\n",
       "      <td>2019</td>\n",
       "      <td>Unknown</td>\n",
       "      <td>Rubicon Technology Partners, Max Ventures, Inc...</td>\n",
       "    </tr>\n",
       "    <tr>\n",
       "      <th>567</th>\n",
       "      <td>ISN</td>\n",
       "      <td>$2B</td>\n",
       "      <td>2020-12-17</td>\n",
       "      <td>Supply chain, logistics, &amp; delivery</td>\n",
       "      <td>Dallas</td>\n",
       "      <td>United States</td>\n",
       "      <td>North America</td>\n",
       "      <td>2001</td>\n",
       "      <td>Unknown</td>\n",
       "      <td>Blackstone</td>\n",
       "    </tr>\n",
       "    <tr>\n",
       "      <th>639</th>\n",
       "      <td>SITECH DEV</td>\n",
       "      <td>$1B</td>\n",
       "      <td>2019-05-16</td>\n",
       "      <td>Other</td>\n",
       "      <td>Guiyang</td>\n",
       "      <td>China</td>\n",
       "      <td>Asia</td>\n",
       "      <td>2017</td>\n",
       "      <td>Unknown</td>\n",
       "      <td>China Prosperity Capital</td>\n",
       "    </tr>\n",
       "    <tr>\n",
       "      <th>651</th>\n",
       "      <td>Xiaobing</td>\n",
       "      <td>$1B</td>\n",
       "      <td>2021-07-12</td>\n",
       "      <td>Fintech</td>\n",
       "      <td>Beijing</td>\n",
       "      <td>China</td>\n",
       "      <td>Asia</td>\n",
       "      <td>2020</td>\n",
       "      <td>Unknown</td>\n",
       "      <td>NetEase Capital, Northern Light Venture Capita...</td>\n",
       "    </tr>\n",
       "  </tbody>\n",
       "</table>\n",
       "</div>"
      ],
      "text/plain": [
       "        Company Valuation Date Joined                             Industry  \\\n",
       "215      SSENSE       $4B  2021-06-08      E-commerce & direct-to-consumer   \n",
       "424     Uplight       $2B  2021-03-03                                Other   \n",
       "567         ISN       $2B  2020-12-17  Supply chain, logistics, & delivery   \n",
       "639  SITECH DEV       $1B  2019-05-16                                Other   \n",
       "651    Xiaobing       $1B  2021-07-12                              Fintech   \n",
       "\n",
       "         City Country/Region      Continent  Year Founded  Funding  \\\n",
       "215  Montreal         Canada  North America          2003  Unknown   \n",
       "424   Boulder  United States  North America          2019  Unknown   \n",
       "567    Dallas  United States  North America          2001  Unknown   \n",
       "639   Guiyang          China           Asia          2017  Unknown   \n",
       "651   Beijing          China           Asia          2020  Unknown   \n",
       "\n",
       "                                      Select Investors  \n",
       "215                                    Sequoia Capital  \n",
       "424  Rubicon Technology Partners, Max Ventures, Inc...  \n",
       "567                                         Blackstone  \n",
       "639                           China Prosperity Capital  \n",
       "651  NetEase Capital, Northern Light Venture Capita...  "
      ]
     },
     "execution_count": 18,
     "metadata": {},
     "output_type": "execute_result"
    }
   ],
   "source": [
    "companies[companies['Funding'] == 'Unknown'].head()"
   ]
  },
  {
   "cell_type": "code",
   "execution_count": 19,
   "id": "016f39e0",
   "metadata": {},
   "outputs": [],
   "source": [
    "companies['Funding'] = companies['Funding'].replace('Unknown', '0')"
   ]
  },
  {
   "cell_type": "code",
   "execution_count": 20,
   "id": "af18e37f",
   "metadata": {},
   "outputs": [
    {
     "data": {
      "text/html": [
       "<div>\n",
       "<style scoped>\n",
       "    .dataframe tbody tr th:only-of-type {\n",
       "        vertical-align: middle;\n",
       "    }\n",
       "\n",
       "    .dataframe tbody tr th {\n",
       "        vertical-align: top;\n",
       "    }\n",
       "\n",
       "    .dataframe thead th {\n",
       "        text-align: right;\n",
       "    }\n",
       "</style>\n",
       "<table border=\"1\" class=\"dataframe\">\n",
       "  <thead>\n",
       "    <tr style=\"text-align: right;\">\n",
       "      <th></th>\n",
       "      <th>Company</th>\n",
       "      <th>Valuation</th>\n",
       "      <th>Date Joined</th>\n",
       "      <th>Industry</th>\n",
       "      <th>City</th>\n",
       "      <th>Country/Region</th>\n",
       "      <th>Continent</th>\n",
       "      <th>Year Founded</th>\n",
       "      <th>Funding</th>\n",
       "      <th>Select Investors</th>\n",
       "    </tr>\n",
       "  </thead>\n",
       "  <tbody>\n",
       "  </tbody>\n",
       "</table>\n",
       "</div>"
      ],
      "text/plain": [
       "Empty DataFrame\n",
       "Columns: [Company, Valuation, Date Joined, Industry, City, Country/Region, Continent, Year Founded, Funding, Select Investors]\n",
       "Index: []"
      ]
     },
     "execution_count": 20,
     "metadata": {},
     "output_type": "execute_result"
    }
   ],
   "source": [
    "companies[companies['Funding'] == 'Unknown'].head()"
   ]
  },
  {
   "cell_type": "code",
   "execution_count": 21,
   "id": "11b6e347",
   "metadata": {},
   "outputs": [
    {
     "data": {
      "text/html": [
       "<div>\n",
       "<style scoped>\n",
       "    .dataframe tbody tr th:only-of-type {\n",
       "        vertical-align: middle;\n",
       "    }\n",
       "\n",
       "    .dataframe tbody tr th {\n",
       "        vertical-align: top;\n",
       "    }\n",
       "\n",
       "    .dataframe thead th {\n",
       "        text-align: right;\n",
       "    }\n",
       "</style>\n",
       "<table border=\"1\" class=\"dataframe\">\n",
       "  <thead>\n",
       "    <tr style=\"text-align: right;\">\n",
       "      <th></th>\n",
       "      <th>Company</th>\n",
       "      <th>Valuation</th>\n",
       "      <th>Date Joined</th>\n",
       "      <th>Industry</th>\n",
       "      <th>City</th>\n",
       "      <th>Country/Region</th>\n",
       "      <th>Continent</th>\n",
       "      <th>Year Founded</th>\n",
       "      <th>Funding</th>\n",
       "      <th>Select Investors</th>\n",
       "    </tr>\n",
       "  </thead>\n",
       "  <tbody>\n",
       "    <tr>\n",
       "      <th>215</th>\n",
       "      <td>SSENSE</td>\n",
       "      <td>$4B</td>\n",
       "      <td>2021-06-08</td>\n",
       "      <td>E-commerce &amp; direct-to-consumer</td>\n",
       "      <td>Montreal</td>\n",
       "      <td>Canada</td>\n",
       "      <td>North America</td>\n",
       "      <td>2003</td>\n",
       "      <td>0</td>\n",
       "      <td>Sequoia Capital</td>\n",
       "    </tr>\n",
       "    <tr>\n",
       "      <th>424</th>\n",
       "      <td>Uplight</td>\n",
       "      <td>$2B</td>\n",
       "      <td>2021-03-03</td>\n",
       "      <td>Other</td>\n",
       "      <td>Boulder</td>\n",
       "      <td>United States</td>\n",
       "      <td>North America</td>\n",
       "      <td>2019</td>\n",
       "      <td>0</td>\n",
       "      <td>Rubicon Technology Partners, Max Ventures, Inc...</td>\n",
       "    </tr>\n",
       "    <tr>\n",
       "      <th>567</th>\n",
       "      <td>ISN</td>\n",
       "      <td>$2B</td>\n",
       "      <td>2020-12-17</td>\n",
       "      <td>Supply chain, logistics, &amp; delivery</td>\n",
       "      <td>Dallas</td>\n",
       "      <td>United States</td>\n",
       "      <td>North America</td>\n",
       "      <td>2001</td>\n",
       "      <td>0</td>\n",
       "      <td>Blackstone</td>\n",
       "    </tr>\n",
       "    <tr>\n",
       "      <th>639</th>\n",
       "      <td>SITECH DEV</td>\n",
       "      <td>$1B</td>\n",
       "      <td>2019-05-16</td>\n",
       "      <td>Other</td>\n",
       "      <td>Guiyang</td>\n",
       "      <td>China</td>\n",
       "      <td>Asia</td>\n",
       "      <td>2017</td>\n",
       "      <td>0</td>\n",
       "      <td>China Prosperity Capital</td>\n",
       "    </tr>\n",
       "    <tr>\n",
       "      <th>651</th>\n",
       "      <td>Xiaobing</td>\n",
       "      <td>$1B</td>\n",
       "      <td>2021-07-12</td>\n",
       "      <td>Fintech</td>\n",
       "      <td>Beijing</td>\n",
       "      <td>China</td>\n",
       "      <td>Asia</td>\n",
       "      <td>2020</td>\n",
       "      <td>0</td>\n",
       "      <td>NetEase Capital, Northern Light Venture Capita...</td>\n",
       "    </tr>\n",
       "  </tbody>\n",
       "</table>\n",
       "</div>"
      ],
      "text/plain": [
       "        Company Valuation Date Joined                             Industry  \\\n",
       "215      SSENSE       $4B  2021-06-08      E-commerce & direct-to-consumer   \n",
       "424     Uplight       $2B  2021-03-03                                Other   \n",
       "567         ISN       $2B  2020-12-17  Supply chain, logistics, & delivery   \n",
       "639  SITECH DEV       $1B  2019-05-16                                Other   \n",
       "651    Xiaobing       $1B  2021-07-12                              Fintech   \n",
       "\n",
       "         City Country/Region      Continent  Year Founded Funding  \\\n",
       "215  Montreal         Canada  North America          2003       0   \n",
       "424   Boulder  United States  North America          2019       0   \n",
       "567    Dallas  United States  North America          2001       0   \n",
       "639   Guiyang          China           Asia          2017       0   \n",
       "651   Beijing          China           Asia          2020       0   \n",
       "\n",
       "                                      Select Investors  \n",
       "215                                    Sequoia Capital  \n",
       "424  Rubicon Technology Partners, Max Ventures, Inc...  \n",
       "567                                         Blackstone  \n",
       "639                           China Prosperity Capital  \n",
       "651  NetEase Capital, Northern Light Venture Capita...  "
      ]
     },
     "execution_count": 21,
     "metadata": {},
     "output_type": "execute_result"
    }
   ],
   "source": [
    "companies[companies['Funding'] == '0'].head()"
   ]
  },
  {
   "cell_type": "code",
   "execution_count": 22,
   "id": "44df46d8",
   "metadata": {},
   "outputs": [],
   "source": [
    "def valuation_to_num(valuation_str):\n",
    "    valuation_str = valuation_str.replace('$', '').strip()\n",
    "    numeric_part = ''.join(x for x in valuation_str if x.isdigit() or x == '.')\n",
    "    scale = valuation_str[-1].upper() \n",
    "\n",
    "    numeric_value = float(numeric_part)\n",
    "    if scale == 'B':\n",
    "        valuation_float = numeric_value * 1e9\n",
    "    elif scale == 'M':\n",
    "        valuation_float = numeric_value * 1e6\n",
    "    else:\n",
    "        raise ValueError(f'Invalid scale: {scale}')\n",
    "        \n",
    "    return valuation_float\n",
    "\n",
    "companies['Valuation float'] = companies['Valuation'].apply(valuation_to_num)\n"
   ]
  },
  {
   "cell_type": "code",
   "execution_count": 23,
   "id": "7e39107f",
   "metadata": {},
   "outputs": [
    {
     "data": {
      "text/html": [
       "<div>\n",
       "<style scoped>\n",
       "    .dataframe tbody tr th:only-of-type {\n",
       "        vertical-align: middle;\n",
       "    }\n",
       "\n",
       "    .dataframe tbody tr th {\n",
       "        vertical-align: top;\n",
       "    }\n",
       "\n",
       "    .dataframe thead th {\n",
       "        text-align: right;\n",
       "    }\n",
       "</style>\n",
       "<table border=\"1\" class=\"dataframe\">\n",
       "  <thead>\n",
       "    <tr style=\"text-align: right;\">\n",
       "      <th></th>\n",
       "      <th>Company</th>\n",
       "      <th>Valuation</th>\n",
       "      <th>Date Joined</th>\n",
       "      <th>Industry</th>\n",
       "      <th>City</th>\n",
       "      <th>Country/Region</th>\n",
       "      <th>Continent</th>\n",
       "      <th>Year Founded</th>\n",
       "      <th>Funding</th>\n",
       "      <th>Select Investors</th>\n",
       "      <th>Valuation float</th>\n",
       "    </tr>\n",
       "  </thead>\n",
       "  <tbody>\n",
       "    <tr>\n",
       "      <th>0</th>\n",
       "      <td>Bytedance</td>\n",
       "      <td>$180B</td>\n",
       "      <td>2017-04-07</td>\n",
       "      <td>Artificial Intelligence</td>\n",
       "      <td>Beijing</td>\n",
       "      <td>China</td>\n",
       "      <td>Asia</td>\n",
       "      <td>2012</td>\n",
       "      <td>$8B</td>\n",
       "      <td>Sequoia Capital China, SIG Asia Investments, S...</td>\n",
       "      <td>1.800000e+11</td>\n",
       "    </tr>\n",
       "    <tr>\n",
       "      <th>1</th>\n",
       "      <td>SpaceX</td>\n",
       "      <td>$100B</td>\n",
       "      <td>2012-12-01</td>\n",
       "      <td>Other</td>\n",
       "      <td>Hawthorne</td>\n",
       "      <td>United States</td>\n",
       "      <td>North America</td>\n",
       "      <td>2002</td>\n",
       "      <td>$7B</td>\n",
       "      <td>Founders Fund, Draper Fisher Jurvetson, Rothen...</td>\n",
       "      <td>1.000000e+11</td>\n",
       "    </tr>\n",
       "    <tr>\n",
       "      <th>2</th>\n",
       "      <td>SHEIN</td>\n",
       "      <td>$100B</td>\n",
       "      <td>2018-07-03</td>\n",
       "      <td>E-commerce &amp; direct-to-consumer</td>\n",
       "      <td>Shenzhen</td>\n",
       "      <td>China</td>\n",
       "      <td>Asia</td>\n",
       "      <td>2008</td>\n",
       "      <td>$2B</td>\n",
       "      <td>Tiger Global Management, Sequoia Capital China...</td>\n",
       "      <td>1.000000e+11</td>\n",
       "    </tr>\n",
       "    <tr>\n",
       "      <th>3</th>\n",
       "      <td>Stripe</td>\n",
       "      <td>$95B</td>\n",
       "      <td>2014-01-23</td>\n",
       "      <td>Fintech</td>\n",
       "      <td>San Francisco</td>\n",
       "      <td>United States</td>\n",
       "      <td>North America</td>\n",
       "      <td>2010</td>\n",
       "      <td>$2B</td>\n",
       "      <td>Khosla Ventures, LowercaseCapital, capitalG</td>\n",
       "      <td>9.500000e+10</td>\n",
       "    </tr>\n",
       "    <tr>\n",
       "      <th>4</th>\n",
       "      <td>Klarna</td>\n",
       "      <td>$46B</td>\n",
       "      <td>2011-12-12</td>\n",
       "      <td>Fintech</td>\n",
       "      <td>Stockholm</td>\n",
       "      <td>Sweden</td>\n",
       "      <td>Europe</td>\n",
       "      <td>2005</td>\n",
       "      <td>$4B</td>\n",
       "      <td>Institutional Venture Partners, Sequoia Capita...</td>\n",
       "      <td>4.600000e+10</td>\n",
       "    </tr>\n",
       "  </tbody>\n",
       "</table>\n",
       "</div>"
      ],
      "text/plain": [
       "     Company Valuation Date Joined                         Industry  \\\n",
       "0  Bytedance     $180B  2017-04-07          Artificial Intelligence   \n",
       "1     SpaceX     $100B  2012-12-01                            Other   \n",
       "2      SHEIN     $100B  2018-07-03  E-commerce & direct-to-consumer   \n",
       "3     Stripe      $95B  2014-01-23                          Fintech   \n",
       "4     Klarna      $46B  2011-12-12                          Fintech   \n",
       "\n",
       "            City Country/Region      Continent  Year Founded Funding  \\\n",
       "0        Beijing          China           Asia          2012     $8B   \n",
       "1      Hawthorne  United States  North America          2002     $7B   \n",
       "2       Shenzhen          China           Asia          2008     $2B   \n",
       "3  San Francisco  United States  North America          2010     $2B   \n",
       "4      Stockholm         Sweden         Europe          2005     $4B   \n",
       "\n",
       "                                    Select Investors  Valuation float  \n",
       "0  Sequoia Capital China, SIG Asia Investments, S...     1.800000e+11  \n",
       "1  Founders Fund, Draper Fisher Jurvetson, Rothen...     1.000000e+11  \n",
       "2  Tiger Global Management, Sequoia Capital China...     1.000000e+11  \n",
       "3        Khosla Ventures, LowercaseCapital, capitalG     9.500000e+10  \n",
       "4  Institutional Venture Partners, Sequoia Capita...     4.600000e+10  "
      ]
     },
     "execution_count": 23,
     "metadata": {},
     "output_type": "execute_result"
    }
   ],
   "source": [
    "companies.head()"
   ]
  },
  {
   "cell_type": "code",
   "execution_count": 24,
   "id": "e1baa8cf",
   "metadata": {},
   "outputs": [
    {
     "data": {
      "text/html": [
       "<div>\n",
       "<style scoped>\n",
       "    .dataframe tbody tr th:only-of-type {\n",
       "        vertical-align: middle;\n",
       "    }\n",
       "\n",
       "    .dataframe tbody tr th {\n",
       "        vertical-align: top;\n",
       "    }\n",
       "\n",
       "    .dataframe thead th {\n",
       "        text-align: right;\n",
       "    }\n",
       "</style>\n",
       "<table border=\"1\" class=\"dataframe\">\n",
       "  <thead>\n",
       "    <tr style=\"text-align: right;\">\n",
       "      <th></th>\n",
       "      <th>Company</th>\n",
       "      <th>Valuation</th>\n",
       "      <th>Date Joined</th>\n",
       "      <th>Industry</th>\n",
       "      <th>City</th>\n",
       "      <th>Country/Region</th>\n",
       "      <th>Continent</th>\n",
       "      <th>Year Founded</th>\n",
       "      <th>Funding</th>\n",
       "      <th>Select Investors</th>\n",
       "      <th>Valuation float</th>\n",
       "      <th>Funding float</th>\n",
       "    </tr>\n",
       "  </thead>\n",
       "  <tbody>\n",
       "    <tr>\n",
       "      <th>0</th>\n",
       "      <td>Bytedance</td>\n",
       "      <td>$180B</td>\n",
       "      <td>2017-04-07</td>\n",
       "      <td>Artificial Intelligence</td>\n",
       "      <td>Beijing</td>\n",
       "      <td>China</td>\n",
       "      <td>Asia</td>\n",
       "      <td>2012</td>\n",
       "      <td>$8B</td>\n",
       "      <td>Sequoia Capital China, SIG Asia Investments, S...</td>\n",
       "      <td>1.800000e+11</td>\n",
       "      <td>8.000000e+09</td>\n",
       "    </tr>\n",
       "    <tr>\n",
       "      <th>1</th>\n",
       "      <td>SpaceX</td>\n",
       "      <td>$100B</td>\n",
       "      <td>2012-12-01</td>\n",
       "      <td>Other</td>\n",
       "      <td>Hawthorne</td>\n",
       "      <td>United States</td>\n",
       "      <td>North America</td>\n",
       "      <td>2002</td>\n",
       "      <td>$7B</td>\n",
       "      <td>Founders Fund, Draper Fisher Jurvetson, Rothen...</td>\n",
       "      <td>1.000000e+11</td>\n",
       "      <td>7.000000e+09</td>\n",
       "    </tr>\n",
       "    <tr>\n",
       "      <th>2</th>\n",
       "      <td>SHEIN</td>\n",
       "      <td>$100B</td>\n",
       "      <td>2018-07-03</td>\n",
       "      <td>E-commerce &amp; direct-to-consumer</td>\n",
       "      <td>Shenzhen</td>\n",
       "      <td>China</td>\n",
       "      <td>Asia</td>\n",
       "      <td>2008</td>\n",
       "      <td>$2B</td>\n",
       "      <td>Tiger Global Management, Sequoia Capital China...</td>\n",
       "      <td>1.000000e+11</td>\n",
       "      <td>2.000000e+09</td>\n",
       "    </tr>\n",
       "    <tr>\n",
       "      <th>3</th>\n",
       "      <td>Stripe</td>\n",
       "      <td>$95B</td>\n",
       "      <td>2014-01-23</td>\n",
       "      <td>Fintech</td>\n",
       "      <td>San Francisco</td>\n",
       "      <td>United States</td>\n",
       "      <td>North America</td>\n",
       "      <td>2010</td>\n",
       "      <td>$2B</td>\n",
       "      <td>Khosla Ventures, LowercaseCapital, capitalG</td>\n",
       "      <td>9.500000e+10</td>\n",
       "      <td>2.000000e+09</td>\n",
       "    </tr>\n",
       "    <tr>\n",
       "      <th>4</th>\n",
       "      <td>Klarna</td>\n",
       "      <td>$46B</td>\n",
       "      <td>2011-12-12</td>\n",
       "      <td>Fintech</td>\n",
       "      <td>Stockholm</td>\n",
       "      <td>Sweden</td>\n",
       "      <td>Europe</td>\n",
       "      <td>2005</td>\n",
       "      <td>$4B</td>\n",
       "      <td>Institutional Venture Partners, Sequoia Capita...</td>\n",
       "      <td>4.600000e+10</td>\n",
       "      <td>4.000000e+09</td>\n",
       "    </tr>\n",
       "  </tbody>\n",
       "</table>\n",
       "</div>"
      ],
      "text/plain": [
       "     Company Valuation Date Joined                         Industry  \\\n",
       "0  Bytedance     $180B  2017-04-07          Artificial Intelligence   \n",
       "1     SpaceX     $100B  2012-12-01                            Other   \n",
       "2      SHEIN     $100B  2018-07-03  E-commerce & direct-to-consumer   \n",
       "3     Stripe      $95B  2014-01-23                          Fintech   \n",
       "4     Klarna      $46B  2011-12-12                          Fintech   \n",
       "\n",
       "            City Country/Region      Continent  Year Founded Funding  \\\n",
       "0        Beijing          China           Asia          2012     $8B   \n",
       "1      Hawthorne  United States  North America          2002     $7B   \n",
       "2       Shenzhen          China           Asia          2008     $2B   \n",
       "3  San Francisco  United States  North America          2010     $2B   \n",
       "4      Stockholm         Sweden         Europe          2005     $4B   \n",
       "\n",
       "                                    Select Investors  Valuation float  \\\n",
       "0  Sequoia Capital China, SIG Asia Investments, S...     1.800000e+11   \n",
       "1  Founders Fund, Draper Fisher Jurvetson, Rothen...     1.000000e+11   \n",
       "2  Tiger Global Management, Sequoia Capital China...     1.000000e+11   \n",
       "3        Khosla Ventures, LowercaseCapital, capitalG     9.500000e+10   \n",
       "4  Institutional Venture Partners, Sequoia Capita...     4.600000e+10   \n",
       "\n",
       "   Funding float  \n",
       "0   8.000000e+09  \n",
       "1   7.000000e+09  \n",
       "2   2.000000e+09  \n",
       "3   2.000000e+09  \n",
       "4   4.000000e+09  "
      ]
     },
     "execution_count": 24,
     "metadata": {},
     "output_type": "execute_result"
    }
   ],
   "source": [
    "def funding_to_num(funding_str):\n",
    "    funding_num = funding_str.replace('$', '').strip()\n",
    "    numeric_part = ''.join(x for x in funding_str if x.isdigit() or x == '.')\n",
    "    scale = funding_num[-1].upper()\n",
    "    \n",
    "    numeric_value = float(numeric_part)\n",
    "    if  scale == 'B':\n",
    "        funding_float = numeric_value * 1e9\n",
    "    elif scale == 'M':\n",
    "        funding_float = numeric_value * 1e6\n",
    "    elif scale == '0':\n",
    "        funding_float = 0.0\n",
    "    else:\n",
    "        raise ValueError(f'Invalid scale: {scale}')\n",
    "        \n",
    "    return funding_float\n",
    "\n",
    "companies['Funding float'] = companies['Funding'].apply(funding_to_num)\n",
    "    \n",
    "companies.head()"
   ]
  },
  {
   "cell_type": "code",
   "execution_count": null,
   "id": "3fc5284d",
   "metadata": {},
   "outputs": [],
   "source": [
    "companies['Years To Unicorn'] = companies['Date Joined'].dt.year - companies['Year Founded'] \n",
    "companies.head()"
   ]
  },
  {
   "cell_type": "code",
   "execution_count": null,
   "id": "07d4ba16",
   "metadata": {},
   "outputs": [],
   "source": [
    "companies['Years To Unicorn'].describe()"
   ]
  },
  {
   "cell_type": "code",
   "execution_count": null,
   "id": "67c0ed95",
   "metadata": {},
   "outputs": [],
   "source": [
    "negative_value = companies[companies['Years To Unicorn'] < 0]\n",
    "negative_value"
   ]
  },
  {
   "cell_type": "markdown",
   "id": "e9d88309",
   "metadata": {},
   "source": [
    "There is only one row that contains a negative value,-4 to be exact , and the name of the company is Yidian Zixun, it develops personalized news app and is based in beijing China .An internet search revealed that Yidian Zixun was founded in 2013 so i'll be replacing the value at `Year Founded` with `2013` for Yidian Zixun's row. "
   ]
  },
  {
   "cell_type": "code",
   "execution_count": null,
   "id": "74e50ed1",
   "metadata": {},
   "outputs": [],
   "source": [
    "companies.loc[714,'Year Founded'] = 2013"
   ]
  },
  {
   "cell_type": "code",
   "execution_count": null,
   "id": "b3aff512",
   "metadata": {},
   "outputs": [],
   "source": [
    "companies['Years To Unicorn'] = companies['Date Joined'].dt.year - companies['Year Founded'] \n",
    "\n",
    "companies['Years To Unicorn'].describe()"
   ]
  },
  {
   "cell_type": "markdown",
   "id": "49de6826",
   "metadata": {},
   "source": [
    "## Analysis and Visualization"
   ]
  },
  {
   "cell_type": "code",
   "execution_count": 25,
   "id": "6bbac492",
   "metadata": {},
   "outputs": [
    {
     "data": {
      "text/html": [
       "<div>\n",
       "<style scoped>\n",
       "    .dataframe tbody tr th:only-of-type {\n",
       "        vertical-align: middle;\n",
       "    }\n",
       "\n",
       "    .dataframe tbody tr th {\n",
       "        vertical-align: top;\n",
       "    }\n",
       "\n",
       "    .dataframe thead th {\n",
       "        text-align: right;\n",
       "    }\n",
       "</style>\n",
       "<table border=\"1\" class=\"dataframe\">\n",
       "  <thead>\n",
       "    <tr style=\"text-align: right;\">\n",
       "      <th></th>\n",
       "      <th>Company</th>\n",
       "      <th>Valuation float</th>\n",
       "    </tr>\n",
       "  </thead>\n",
       "  <tbody>\n",
       "    <tr>\n",
       "      <th>0</th>\n",
       "      <td>Bytedance</td>\n",
       "      <td>1.800000e+11</td>\n",
       "    </tr>\n",
       "    <tr>\n",
       "      <th>1</th>\n",
       "      <td>SpaceX</td>\n",
       "      <td>1.000000e+11</td>\n",
       "    </tr>\n",
       "    <tr>\n",
       "      <th>2</th>\n",
       "      <td>SHEIN</td>\n",
       "      <td>1.000000e+11</td>\n",
       "    </tr>\n",
       "    <tr>\n",
       "      <th>3</th>\n",
       "      <td>Stripe</td>\n",
       "      <td>9.500000e+10</td>\n",
       "    </tr>\n",
       "    <tr>\n",
       "      <th>4</th>\n",
       "      <td>Klarna</td>\n",
       "      <td>4.600000e+10</td>\n",
       "    </tr>\n",
       "    <tr>\n",
       "      <th>5</th>\n",
       "      <td>Canva</td>\n",
       "      <td>4.000000e+10</td>\n",
       "    </tr>\n",
       "    <tr>\n",
       "      <th>6</th>\n",
       "      <td>Checkout.com</td>\n",
       "      <td>4.000000e+10</td>\n",
       "    </tr>\n",
       "    <tr>\n",
       "      <th>7</th>\n",
       "      <td>Instacart</td>\n",
       "      <td>3.900000e+10</td>\n",
       "    </tr>\n",
       "    <tr>\n",
       "      <th>8</th>\n",
       "      <td>JUUL Labs</td>\n",
       "      <td>3.800000e+10</td>\n",
       "    </tr>\n",
       "    <tr>\n",
       "      <th>9</th>\n",
       "      <td>Databricks</td>\n",
       "      <td>3.800000e+10</td>\n",
       "    </tr>\n",
       "  </tbody>\n",
       "</table>\n",
       "</div>"
      ],
      "text/plain": [
       "        Company  Valuation float\n",
       "0     Bytedance     1.800000e+11\n",
       "1        SpaceX     1.000000e+11\n",
       "2         SHEIN     1.000000e+11\n",
       "3        Stripe     9.500000e+10\n",
       "4        Klarna     4.600000e+10\n",
       "5         Canva     4.000000e+10\n",
       "6  Checkout.com     4.000000e+10\n",
       "7     Instacart     3.900000e+10\n",
       "8     JUUL Labs     3.800000e+10\n",
       "9    Databricks     3.800000e+10"
      ]
     },
     "execution_count": 25,
     "metadata": {},
     "output_type": "execute_result"
    }
   ],
   "source": [
    "top_val = companies.sort_values(by = 'Valuation float', ascending = False)\n",
    "top_10_companies = top_val.head(10)\n",
    "top_10_companies[['Company','Valuation float']]"
   ]
  },
  {
   "cell_type": "code",
   "execution_count": 26,
   "id": "3be652c9",
   "metadata": {},
   "outputs": [
    {
     "data": {
      "image/png": "[encoded data removed]",
      "text/plain": [
       "<Figure size 720x432 with 1 Axes>"
      ]
     },
     "metadata": {
      "needs_background": "light"
     },
     "output_type": "display_data"
    }
   ],
   "source": [
    "fig, ax = plt.subplots(figsize=(10, 6))\n",
    "\n",
    "\n",
    "sns.barplot(x=\"Company\", y=\"Valuation float\", data=top_10_companies, palette=['#000000', '#111111', '#222222', '#333333',  '#444444', '#555555', '#666666', '#777777', '#888888', '#999999'], ax=ax)\n",
    "\n",
    "for index, row in top_10_companies.iterrows():\n",
    "    valuation = row[\"Valuation float\"]\n",
    "    if valuation >= 1e9:\n",
    "        label = f\"${valuation/1e9:.1f}B\"\n",
    "    else:\n",
    "        label = f\"${valuation/1e6:.1f}M\"\n",
    "    ax.text(index, valuation, label, ha=\"center\", va=\"bottom\", fontsize=10, color=\"black\", fontweight='bold')\n",
    "\n",
    "ax.set(xlabel=\"Company\", ylabel=\"Total Valuation\")\n",
    "plt.title(\"Top 10 Companies By Valuation\", fontsize=14, fontweight='bold')\n",
    "plt.xticks(rotation=45, ha='right')\n",
    "\n",
    "plt.show()\n"
   ]
  },
  {
   "cell_type": "code",
   "execution_count": 27,
   "id": "62d0d3d3",
   "metadata": {},
   "outputs": [
    {
     "data": {
      "text/plain": [
       "Industry\n",
       "Artificial Intelligence                $4.5B\n",
       "Other                                  $4.3B\n",
       "Consumer & retail                      $4.2B\n",
       "Fintech                                $3.9B\n",
       "E-commerce & direct-to-consumer        $3.8B\n",
       "Edtech                                 $3.6B\n",
       "Data management & analytics            $3.3B\n",
       "Travel                                 $3.3B\n",
       "Auto & transportation                  $3.2B\n",
       "Supply chain, logistics, & delivery    $3.1B\n",
       "Hardware                               $2.9B\n",
       "Internet software & services           $2.9B\n",
       "Health                                 $2.7B\n",
       "Cybersecurity                          $2.6B\n",
       "Mobile & telecommunications            $2.3B\n",
       "Name: Valuation float, dtype: object"
      ]
     },
     "execution_count": 27,
     "metadata": {},
     "output_type": "execute_result"
    }
   ],
   "source": [
    "avg_val_industry = companies.groupby('Industry')['Valuation float'].mean().sort_values(ascending = False)\n",
    "\n",
    "def format_valuation(x):\n",
    "    if x >= 1e9:\n",
    "        return f\"${x/1e9:.1f}B\"\n",
    "    else:\n",
    "        return f\"${x/1e6:.1f}M\"\n",
    "    \n",
    "average_valuation_per_industry = avg_val_industry.apply(format_valuation)\n",
    "average_valuation_per_industry"
   ]
  },
  {
   "cell_type": "code",
   "execution_count": 28,
   "id": "faa3dc89",
   "metadata": {},
   "outputs": [
    {
     "data": {
      "text/html": [
       "<div>\n",
       "<style scoped>\n",
       "    .dataframe tbody tr th:only-of-type {\n",
       "        vertical-align: middle;\n",
       "    }\n",
       "\n",
       "    .dataframe tbody tr th {\n",
       "        vertical-align: top;\n",
       "    }\n",
       "\n",
       "    .dataframe thead th {\n",
       "        text-align: right;\n",
       "    }\n",
       "</style>\n",
       "<table border=\"1\" class=\"dataframe\">\n",
       "  <thead>\n",
       "    <tr style=\"text-align: right;\">\n",
       "      <th></th>\n",
       "      <th>Industry</th>\n",
       "      <th>No of companies</th>\n",
       "    </tr>\n",
       "  </thead>\n",
       "  <tbody>\n",
       "    <tr>\n",
       "      <th>0</th>\n",
       "      <td>Fintech</td>\n",
       "      <td>224</td>\n",
       "    </tr>\n",
       "    <tr>\n",
       "      <th>1</th>\n",
       "      <td>Internet software &amp; services</td>\n",
       "      <td>205</td>\n",
       "    </tr>\n",
       "    <tr>\n",
       "      <th>2</th>\n",
       "      <td>E-commerce &amp; direct-to-consumer</td>\n",
       "      <td>111</td>\n",
       "    </tr>\n",
       "    <tr>\n",
       "      <th>3</th>\n",
       "      <td>Artificial Intelligence</td>\n",
       "      <td>84</td>\n",
       "    </tr>\n",
       "    <tr>\n",
       "      <th>4</th>\n",
       "      <td>Health</td>\n",
       "      <td>74</td>\n",
       "    </tr>\n",
       "    <tr>\n",
       "      <th>5</th>\n",
       "      <td>Other</td>\n",
       "      <td>58</td>\n",
       "    </tr>\n",
       "    <tr>\n",
       "      <th>6</th>\n",
       "      <td>Supply chain, logistics, &amp; delivery</td>\n",
       "      <td>57</td>\n",
       "    </tr>\n",
       "    <tr>\n",
       "      <th>7</th>\n",
       "      <td>Cybersecurity</td>\n",
       "      <td>50</td>\n",
       "    </tr>\n",
       "    <tr>\n",
       "      <th>8</th>\n",
       "      <td>Data management &amp; analytics</td>\n",
       "      <td>41</td>\n",
       "    </tr>\n",
       "    <tr>\n",
       "      <th>9</th>\n",
       "      <td>Mobile &amp; telecommunications</td>\n",
       "      <td>38</td>\n",
       "    </tr>\n",
       "    <tr>\n",
       "      <th>10</th>\n",
       "      <td>Hardware</td>\n",
       "      <td>34</td>\n",
       "    </tr>\n",
       "    <tr>\n",
       "      <th>11</th>\n",
       "      <td>Auto &amp; transportation</td>\n",
       "      <td>31</td>\n",
       "    </tr>\n",
       "    <tr>\n",
       "      <th>12</th>\n",
       "      <td>Edtech</td>\n",
       "      <td>28</td>\n",
       "    </tr>\n",
       "    <tr>\n",
       "      <th>13</th>\n",
       "      <td>Consumer &amp; retail</td>\n",
       "      <td>25</td>\n",
       "    </tr>\n",
       "    <tr>\n",
       "      <th>14</th>\n",
       "      <td>Travel</td>\n",
       "      <td>14</td>\n",
       "    </tr>\n",
       "  </tbody>\n",
       "</table>\n",
       "</div>"
      ],
      "text/plain": [
       "                               Industry  No of companies\n",
       "0                               Fintech              224\n",
       "1          Internet software & services              205\n",
       "2       E-commerce & direct-to-consumer              111\n",
       "3               Artificial Intelligence               84\n",
       "4                                Health               74\n",
       "5                                 Other               58\n",
       "6   Supply chain, logistics, & delivery               57\n",
       "7                         Cybersecurity               50\n",
       "8           Data management & analytics               41\n",
       "9           Mobile & telecommunications               38\n",
       "10                             Hardware               34\n",
       "11                Auto & transportation               31\n",
       "12                               Edtech               28\n",
       "13                    Consumer & retail               25\n",
       "14                               Travel               14"
      ]
     },
     "execution_count": 28,
     "metadata": {},
     "output_type": "execute_result"
    }
   ],
   "source": [
    "company_in_industry = companies['Industry'].value_counts().reset_index()\n",
    "company_in_industry.columns = ['Industry','No of companies']\n",
    "company_in_industry"
   ]
  },
  {
   "cell_type": "code",
   "execution_count": 29,
   "id": "7b1449db",
   "metadata": {},
   "outputs": [
    {
     "data": {
      "image/png": "[encoded data removed]",
      "text/plain": [
       "<Figure size 720x432 with 1 Axes>"
      ]
     },
     "metadata": {
      "needs_background": "light"
     },
     "output_type": "display_data"
    }
   ],
   "source": [
    "fig, ax = plt.subplots(figsize=(10, 6))\n",
    "\n",
    "\n",
    "sns.barplot(y='Industry', x='No of companies' ,data=company_in_industry, palette=['#555555'], ax=ax)\n",
    "\n",
    "for index, row in company_in_industry.iterrows():\n",
    "    ax.text(row['No of companies'], index, row['No of companies'], color='black',va=\"center\", fontweight='bold')\n",
    "\n",
    "ax.set(xlabel=\"No of Companies\", ylabel=\"Industry\")\n",
    "plt.title(\"No of Unicorn Companies In Each Industry\", fontsize=14, fontweight='bold')\n",
    "plt.xticks(rotation=45, ha='right')\n",
    "\n",
    "plt.show()"
   ]
  },
  {
   "cell_type": "code",
   "execution_count": 30,
   "id": "7a729107",
   "metadata": {},
   "outputs": [
    {
     "data": {
      "text/plain": [
       "Company\n",
       "JUUL Labs             1.400000e+10\n",
       "Bytedance             8.000000e+09\n",
       "Epic Games            7.000000e+09\n",
       "SpaceX                7.000000e+09\n",
       "Global Switch         5.000000e+09\n",
       "Xingsheng Selected    5.000000e+09\n",
       "Swiggy                5.000000e+09\n",
       "J&T Express           5.000000e+09\n",
       "BYJU's                4.000000e+09\n",
       "Ola Cabs              4.000000e+09\n",
       "Name: Funding float, dtype: float64"
      ]
     },
     "execution_count": 30,
     "metadata": {},
     "output_type": "execute_result"
    }
   ],
   "source": [
    "top_company_fund = companies.groupby('Company')['Funding float'].sum().sort_values(ascending= False).head(10)\n",
    "top_company_fund"
   ]
  },
  {
   "cell_type": "code",
   "execution_count": 31,
   "id": "bb42449b",
   "metadata": {},
   "outputs": [
    {
     "data": {
      "image/png": "[encoded data removed]",
      "text/plain": [
       "<Figure size 720x432 with 1 Axes>"
      ]
     },
     "metadata": {
      "needs_background": "light"
     },
     "output_type": "display_data"
    }
   ],
   "source": [
    "plt.figure(figsize=(10, 6)) \n",
    "\n",
    "custom_palette = ['#000000', '#111111', '#222222', '#333333',  '#444444', '#555555', '#666666', '#777777', '#888888', '#999999']\n",
    "\n",
    "ax = sns.barplot(x=top_company_fund.index, y=top_company_fund, palette=custom_palette)\n",
    "\n",
    "# Add 'Total Funding' labels to the bars with custom formatting\n",
    "for index, value in enumerate(top_company_fund):\n",
    "    if value >= 1e9:\n",
    "        label = f\"${value/1e9:.1f}B\"\n",
    "    else:\n",
    "        label = f\"${value/1e6:.1f}M\"\n",
    "    ax.text(index, value, label, ha=\"center\", va=\"bottom\", fontsize=10, color=\"black\", fontweight='bold')\n",
    "\n",
    "# Customize the plot\n",
    "ax.set(xlabel=\"Company\", ylabel=\"Total Funding\")\n",
    "plt.title(\"Top 10 Companies By Funding\", fontsize=15, fontweight='bold')\n",
    "plt.xticks(rotation=45)\n",
    "\n",
    "plt.show()\n"
   ]
  },
  {
   "cell_type": "code",
   "execution_count": 32,
   "id": "0408f0ec",
   "metadata": {},
   "outputs": [
    {
     "data": {
      "text/html": [
       "<div>\n",
       "<style scoped>\n",
       "    .dataframe tbody tr th:only-of-type {\n",
       "        vertical-align: middle;\n",
       "    }\n",
       "\n",
       "    .dataframe tbody tr th {\n",
       "        vertical-align: top;\n",
       "    }\n",
       "\n",
       "    .dataframe thead th {\n",
       "        text-align: right;\n",
       "    }\n",
       "</style>\n",
       "<table border=\"1\" class=\"dataframe\">\n",
       "  <thead>\n",
       "    <tr style=\"text-align: right;\">\n",
       "      <th></th>\n",
       "      <th>Country</th>\n",
       "      <th>No of companies</th>\n",
       "    </tr>\n",
       "  </thead>\n",
       "  <tbody>\n",
       "    <tr>\n",
       "      <th>0</th>\n",
       "      <td>United States</td>\n",
       "      <td>562</td>\n",
       "    </tr>\n",
       "    <tr>\n",
       "      <th>1</th>\n",
       "      <td>China</td>\n",
       "      <td>173</td>\n",
       "    </tr>\n",
       "    <tr>\n",
       "      <th>2</th>\n",
       "      <td>India</td>\n",
       "      <td>65</td>\n",
       "    </tr>\n",
       "    <tr>\n",
       "      <th>3</th>\n",
       "      <td>United Kingdom</td>\n",
       "      <td>43</td>\n",
       "    </tr>\n",
       "    <tr>\n",
       "      <th>4</th>\n",
       "      <td>Germany</td>\n",
       "      <td>26</td>\n",
       "    </tr>\n",
       "  </tbody>\n",
       "</table>\n",
       "</div>"
      ],
      "text/plain": [
       "          Country  No of companies\n",
       "0   United States              562\n",
       "1           China              173\n",
       "2           India               65\n",
       "3  United Kingdom               43\n",
       "4         Germany               26"
      ]
     },
     "execution_count": 32,
     "metadata": {},
     "output_type": "execute_result"
    }
   ],
   "source": [
    "company_in_country = companies['Country/Region'].value_counts().reset_index().head(5)\n",
    "company_in_country.columns = ['Country','No of companies']\n",
    "company_in_country"
   ]
  },
  {
   "cell_type": "code",
   "execution_count": 33,
   "id": "a2b07961",
   "metadata": {},
   "outputs": [
    {
     "data": {
      "image/png": "[encoded data removed]",
      "text/plain": [
       "<Figure size 720x432 with 1 Axes>"
      ]
     },
     "metadata": {},
     "output_type": "display_data"
    }
   ],
   "source": [
    "labels = company_in_country['Country']\n",
    "company = company_in_country['No of companies']\n",
    "colours = ['#444444', '#555555', '#777777','#999999','#666666']\n",
    "explode = (0.05, 0.05, 0.05, 0.05, 0.05)\n",
    "\n",
    "plt.figure(figsize=(10, 6)) \n",
    "_, texts, autotexts = plt.pie(company,\n",
    "                      colors = colours,\n",
    "                      labels=labels,\n",
    "                      autopct='%1.1f%%', \n",
    "                      pctdistance=0.85,\n",
    "                      explode=explode,\n",
    "                      startangle=60)\n",
    "\n",
    "for autotext in autotexts:\n",
    "    autotext.set (color='black', fontsize=12, fontweight='bold')\n",
    "[text.set(color='black', fontsize=13, fontweight='bold') for text in texts]\n",
    "    \n",
    "plt.title('Top 5 Countries With Most Unicorn Companies',fontsize=15, fontweight='bold')\n",
    "\n",
    "\n",
    "plt.show()"
   ]
  },
  {
   "cell_type": "code",
   "execution_count": 34,
   "id": "f9a58130",
   "metadata": {},
   "outputs": [
    {
     "data": {
      "text/html": [
       "<div>\n",
       "<style scoped>\n",
       "    .dataframe tbody tr th:only-of-type {\n",
       "        vertical-align: middle;\n",
       "    }\n",
       "\n",
       "    .dataframe tbody tr th {\n",
       "        vertical-align: top;\n",
       "    }\n",
       "\n",
       "    .dataframe thead th {\n",
       "        text-align: right;\n",
       "    }\n",
       "</style>\n",
       "<table border=\"1\" class=\"dataframe\">\n",
       "  <thead>\n",
       "    <tr style=\"text-align: right;\">\n",
       "      <th></th>\n",
       "      <th>Continent</th>\n",
       "      <th>No of companies</th>\n",
       "    </tr>\n",
       "  </thead>\n",
       "  <tbody>\n",
       "    <tr>\n",
       "      <th>0</th>\n",
       "      <td>North America</td>\n",
       "      <td>589</td>\n",
       "    </tr>\n",
       "    <tr>\n",
       "      <th>1</th>\n",
       "      <td>Asia</td>\n",
       "      <td>310</td>\n",
       "    </tr>\n",
       "    <tr>\n",
       "      <th>2</th>\n",
       "      <td>Europe</td>\n",
       "      <td>143</td>\n",
       "    </tr>\n",
       "    <tr>\n",
       "      <th>3</th>\n",
       "      <td>South America</td>\n",
       "      <td>21</td>\n",
       "    </tr>\n",
       "    <tr>\n",
       "      <th>4</th>\n",
       "      <td>Oceania</td>\n",
       "      <td>8</td>\n",
       "    </tr>\n",
       "    <tr>\n",
       "      <th>5</th>\n",
       "      <td>Africa</td>\n",
       "      <td>3</td>\n",
       "    </tr>\n",
       "  </tbody>\n",
       "</table>\n",
       "</div>"
      ],
      "text/plain": [
       "       Continent  No of companies\n",
       "0  North America              589\n",
       "1           Asia              310\n",
       "2         Europe              143\n",
       "3  South America               21\n",
       "4        Oceania                8\n",
       "5         Africa                3"
      ]
     },
     "execution_count": 34,
     "metadata": {},
     "output_type": "execute_result"
    }
   ],
   "source": [
    "company_in_continent = companies['Continent'].value_counts().reset_index()\n",
    "company_in_continent.columns = ['Continent','No of companies']\n",
    "company_in_continent\n"
   ]
  },
  {
   "cell_type": "code",
   "execution_count": 35,
   "id": "b57c55dc",
   "metadata": {},
   "outputs": [
    {
     "data": {
      "image/png": "[encoded data removed]",
      "text/plain": [
       "<Figure size 720x432 with 1 Axes>"
      ]
     },
     "metadata": {
      "needs_background": "light"
     },
     "output_type": "display_data"
    }
   ],
   "source": [
    "plt.figure(figsize=(10, 6))\n",
    "\n",
    "ax = sns.barplot(x='Continent',\n",
    "                y= 'No of companies',\n",
    "                data= company_in_continent,\n",
    "                palette=['#111111','#333333', '#555555','#777777','#999999'])\n",
    "\n",
    "for p in ax.patches:\n",
    "    ax.annotate(format(p.get_height(), '.0f'), \n",
    "                (p.get_x() + p.get_width() / 2., p.get_height()), \n",
    "                ha = 'center', va = 'center', \n",
    "                xytext = (0, 5), \n",
    "                textcoords = 'offset points',\n",
    "                fontsize=10, fontweight='bold', color='black')\n",
    "\n",
    "\n",
    "plt.xlabel(\"Continents\",fontsize=10, fontweight= 'bold')\n",
    "plt.ylabel(\"Total Companies\",fontsize=10, fontweight= 'bold')\n",
    "plt.title(\"No of Unicorn Companies Across Continents\", fontsize=14, fontweight='bold')\n",
    "\n",
    "    \n",
    "plt.show()"
   ]
  },
  {
   "cell_type": "code",
   "execution_count": 36,
   "id": "b05e9537",
   "metadata": {},
   "outputs": [
    {
     "data": {
      "text/html": [
       "<div>\n",
       "<style scoped>\n",
       "    .dataframe tbody tr th:only-of-type {\n",
       "        vertical-align: middle;\n",
       "    }\n",
       "\n",
       "    .dataframe tbody tr th {\n",
       "        vertical-align: top;\n",
       "    }\n",
       "\n",
       "    .dataframe thead th {\n",
       "        text-align: right;\n",
       "    }\n",
       "</style>\n",
       "<table border=\"1\" class=\"dataframe\">\n",
       "  <thead>\n",
       "    <tr style=\"text-align: right;\">\n",
       "      <th></th>\n",
       "      <th>Year Founded</th>\n",
       "      <th>No of companies found</th>\n",
       "    </tr>\n",
       "  </thead>\n",
       "  <tbody>\n",
       "    <tr>\n",
       "      <th>0</th>\n",
       "      <td>1919</td>\n",
       "      <td>1</td>\n",
       "    </tr>\n",
       "    <tr>\n",
       "      <th>1</th>\n",
       "      <td>1979</td>\n",
       "      <td>1</td>\n",
       "    </tr>\n",
       "    <tr>\n",
       "      <th>2</th>\n",
       "      <td>1984</td>\n",
       "      <td>1</td>\n",
       "    </tr>\n",
       "    <tr>\n",
       "      <th>3</th>\n",
       "      <td>1990</td>\n",
       "      <td>1</td>\n",
       "    </tr>\n",
       "    <tr>\n",
       "      <th>4</th>\n",
       "      <td>1991</td>\n",
       "      <td>1</td>\n",
       "    </tr>\n",
       "    <tr>\n",
       "      <th>5</th>\n",
       "      <td>1992</td>\n",
       "      <td>1</td>\n",
       "    </tr>\n",
       "    <tr>\n",
       "      <th>6</th>\n",
       "      <td>1993</td>\n",
       "      <td>1</td>\n",
       "    </tr>\n",
       "    <tr>\n",
       "      <th>7</th>\n",
       "      <td>1994</td>\n",
       "      <td>2</td>\n",
       "    </tr>\n",
       "    <tr>\n",
       "      <th>8</th>\n",
       "      <td>1995</td>\n",
       "      <td>2</td>\n",
       "    </tr>\n",
       "    <tr>\n",
       "      <th>9</th>\n",
       "      <td>1996</td>\n",
       "      <td>1</td>\n",
       "    </tr>\n",
       "    <tr>\n",
       "      <th>10</th>\n",
       "      <td>1997</td>\n",
       "      <td>1</td>\n",
       "    </tr>\n",
       "    <tr>\n",
       "      <th>11</th>\n",
       "      <td>1998</td>\n",
       "      <td>5</td>\n",
       "    </tr>\n",
       "    <tr>\n",
       "      <th>12</th>\n",
       "      <td>1999</td>\n",
       "      <td>8</td>\n",
       "    </tr>\n",
       "    <tr>\n",
       "      <th>13</th>\n",
       "      <td>2000</td>\n",
       "      <td>11</td>\n",
       "    </tr>\n",
       "    <tr>\n",
       "      <th>14</th>\n",
       "      <td>2001</td>\n",
       "      <td>9</td>\n",
       "    </tr>\n",
       "    <tr>\n",
       "      <th>15</th>\n",
       "      <td>2002</td>\n",
       "      <td>4</td>\n",
       "    </tr>\n",
       "    <tr>\n",
       "      <th>16</th>\n",
       "      <td>2003</td>\n",
       "      <td>8</td>\n",
       "    </tr>\n",
       "    <tr>\n",
       "      <th>17</th>\n",
       "      <td>2004</td>\n",
       "      <td>8</td>\n",
       "    </tr>\n",
       "    <tr>\n",
       "      <th>18</th>\n",
       "      <td>2005</td>\n",
       "      <td>14</td>\n",
       "    </tr>\n",
       "    <tr>\n",
       "      <th>19</th>\n",
       "      <td>2006</td>\n",
       "      <td>15</td>\n",
       "    </tr>\n",
       "    <tr>\n",
       "      <th>20</th>\n",
       "      <td>2007</td>\n",
       "      <td>24</td>\n",
       "    </tr>\n",
       "    <tr>\n",
       "      <th>21</th>\n",
       "      <td>2008</td>\n",
       "      <td>27</td>\n",
       "    </tr>\n",
       "    <tr>\n",
       "      <th>22</th>\n",
       "      <td>2009</td>\n",
       "      <td>34</td>\n",
       "    </tr>\n",
       "    <tr>\n",
       "      <th>23</th>\n",
       "      <td>2010</td>\n",
       "      <td>40</td>\n",
       "    </tr>\n",
       "    <tr>\n",
       "      <th>24</th>\n",
       "      <td>2011</td>\n",
       "      <td>82</td>\n",
       "    </tr>\n",
       "    <tr>\n",
       "      <th>25</th>\n",
       "      <td>2012</td>\n",
       "      <td>95</td>\n",
       "    </tr>\n",
       "    <tr>\n",
       "      <th>26</th>\n",
       "      <td>2013</td>\n",
       "      <td>87</td>\n",
       "    </tr>\n",
       "    <tr>\n",
       "      <th>27</th>\n",
       "      <td>2014</td>\n",
       "      <td>109</td>\n",
       "    </tr>\n",
       "    <tr>\n",
       "      <th>28</th>\n",
       "      <td>2015</td>\n",
       "      <td>155</td>\n",
       "    </tr>\n",
       "    <tr>\n",
       "      <th>29</th>\n",
       "      <td>2016</td>\n",
       "      <td>110</td>\n",
       "    </tr>\n",
       "    <tr>\n",
       "      <th>30</th>\n",
       "      <td>2017</td>\n",
       "      <td>74</td>\n",
       "    </tr>\n",
       "    <tr>\n",
       "      <th>31</th>\n",
       "      <td>2018</td>\n",
       "      <td>61</td>\n",
       "    </tr>\n",
       "    <tr>\n",
       "      <th>32</th>\n",
       "      <td>2019</td>\n",
       "      <td>45</td>\n",
       "    </tr>\n",
       "    <tr>\n",
       "      <th>33</th>\n",
       "      <td>2020</td>\n",
       "      <td>25</td>\n",
       "    </tr>\n",
       "    <tr>\n",
       "      <th>34</th>\n",
       "      <td>2021</td>\n",
       "      <td>11</td>\n",
       "    </tr>\n",
       "  </tbody>\n",
       "</table>\n",
       "</div>"
      ],
      "text/plain": [
       "    Year Founded  No of companies found\n",
       "0           1919                      1\n",
       "1           1979                      1\n",
       "2           1984                      1\n",
       "3           1990                      1\n",
       "4           1991                      1\n",
       "5           1992                      1\n",
       "6           1993                      1\n",
       "7           1994                      2\n",
       "8           1995                      2\n",
       "9           1996                      1\n",
       "10          1997                      1\n",
       "11          1998                      5\n",
       "12          1999                      8\n",
       "13          2000                     11\n",
       "14          2001                      9\n",
       "15          2002                      4\n",
       "16          2003                      8\n",
       "17          2004                      8\n",
       "18          2005                     14\n",
       "19          2006                     15\n",
       "20          2007                     24\n",
       "21          2008                     27\n",
       "22          2009                     34\n",
       "23          2010                     40\n",
       "24          2011                     82\n",
       "25          2012                     95\n",
       "26          2013                     87\n",
       "27          2014                    109\n",
       "28          2015                    155\n",
       "29          2016                    110\n",
       "30          2017                     74\n",
       "31          2018                     61\n",
       "32          2019                     45\n",
       "33          2020                     25\n",
       "34          2021                     11"
      ]
     },
     "execution_count": 36,
     "metadata": {},
     "output_type": "execute_result"
    }
   ],
   "source": [
    "companies['Year Founded'].unique()\n",
    "companies['Company'].groupby(companies['Year Founded']).count().reset_index(name = 'No of companies found')"
   ]
  },
  {
   "cell_type": "code",
   "execution_count": 37,
   "id": "a8cea238",
   "metadata": {},
   "outputs": [
    {
     "data": {
      "image/png": "[encoded data removed]",
      "text/plain": [
       "<Figure size 720x432 with 1 Axes>"
      ]
     },
     "metadata": {
      "needs_background": "light"
     },
     "output_type": "display_data"
    }
   ],
   "source": [
    "plt.figure(figsize=(10, 6))\n",
    "sns.histplot(data = companies, \n",
    "             x = 'Year Founded',\n",
    "            color = '#333333')\n",
    "plt.xlabel(\"Year\",fontsize=10, fontweight= 'bold')\n",
    "plt.ylabel(\"No of Companies\",fontsize=10, fontweight= 'bold')\n",
    "plt.title('Companies Founding Year',fontsize=14, fontweight='bold');"
   ]
  },
  {
   "cell_type": "code",
   "execution_count": 38,
   "id": "daa1d567",
   "metadata": {},
   "outputs": [
    {
     "data": {
      "text/html": [
       "<div>\n",
       "<style scoped>\n",
       "    .dataframe tbody tr th:only-of-type {\n",
       "        vertical-align: middle;\n",
       "    }\n",
       "\n",
       "    .dataframe tbody tr th {\n",
       "        vertical-align: top;\n",
       "    }\n",
       "\n",
       "    .dataframe thead th {\n",
       "        text-align: right;\n",
       "    }\n",
       "</style>\n",
       "<table border=\"1\" class=\"dataframe\">\n",
       "  <thead>\n",
       "    <tr style=\"text-align: right;\">\n",
       "      <th></th>\n",
       "      <th>Industry</th>\n",
       "      <th>Valuation</th>\n",
       "    </tr>\n",
       "  </thead>\n",
       "  <tbody>\n",
       "    <tr>\n",
       "      <th>0</th>\n",
       "      <td>Fintech</td>\n",
       "      <td>8.820000e+11</td>\n",
       "    </tr>\n",
       "    <tr>\n",
       "      <th>1</th>\n",
       "      <td>Internet software &amp; services</td>\n",
       "      <td>5.950000e+11</td>\n",
       "    </tr>\n",
       "    <tr>\n",
       "      <th>2</th>\n",
       "      <td>E-commerce &amp; direct-to-consumer</td>\n",
       "      <td>4.260000e+11</td>\n",
       "    </tr>\n",
       "    <tr>\n",
       "      <th>3</th>\n",
       "      <td>Artificial Intelligence</td>\n",
       "      <td>3.770000e+11</td>\n",
       "    </tr>\n",
       "    <tr>\n",
       "      <th>4</th>\n",
       "      <td>Other</td>\n",
       "      <td>2.520000e+11</td>\n",
       "    </tr>\n",
       "  </tbody>\n",
       "</table>\n",
       "</div>"
      ],
      "text/plain": [
       "                          Industry     Valuation\n",
       "0                          Fintech  8.820000e+11\n",
       "1     Internet software & services  5.950000e+11\n",
       "2  E-commerce & direct-to-consumer  4.260000e+11\n",
       "3          Artificial Intelligence  3.770000e+11\n",
       "4                            Other  2.520000e+11"
      ]
     },
     "execution_count": 38,
     "metadata": {},
     "output_type": "execute_result"
    }
   ],
   "source": [
    "top_val = companies.groupby('Industry')['Valuation float'].sum().sort_values(ascending = False).reset_index().head(5)\n",
    "top_val.columns=['Industry','Valuation']\n",
    "top_val"
   ]
  },
  {
   "cell_type": "code",
   "execution_count": 39,
   "id": "0b01628d",
   "metadata": {},
   "outputs": [
    {
     "data": {
      "image/png": "[encoded data removed]",
      "text/plain": [
       "<Figure size 720x432 with 1 Axes>"
      ]
     },
     "metadata": {},
     "output_type": "display_data"
    }
   ],
   "source": [
    "labels = top_val['Industry']\n",
    "valuation = top_val['Valuation']\n",
    "colours = ['#444444', '#555555', '#777777','#999999','#666666']\n",
    "explode = (0.05, 0.05, 0.05, 0.05, 0.05)\n",
    "\n",
    "plt.figure(figsize=(10, 6)) \n",
    "pie,texts, autotexts = plt.pie(valuation,\n",
    "                               colors = colours,\n",
    "                               labels=labels,\n",
    "                               autopct='%1.1f%%',\n",
    "                               pctdistance=0.85,\n",
    "                               explode=explode,\n",
    "                               startangle=60)\n",
    "\n",
    "centre_circle = plt.Circle((0, 0), 0.70, fc='white')\n",
    "fig = plt.gcf()\n",
    " \n",
    "fig.gca().add_artist(centre_circle)\n",
    "\n",
    "for autotext in autotexts:\n",
    "    autotext.set (color='white', fontsize=12, fontweight='bold')\n",
    "[text.set(color='black', fontsize=13, fontweight='bold') for text in texts]\n",
    "    \n",
    "plt.title('Top 5 Industries With Most Valuation',fontsize=15, fontweight='bold')\n",
    "\n",
    "\n",
    "plt.show()"
   ]
  },
  {
   "cell_type": "code",
   "execution_count": 40,
   "id": "0511078b",
   "metadata": {},
   "outputs": [
    {
     "name": "stdout",
     "output_type": "stream",
     "text": [
      "                  Investor  Count\n",
      "0                    Accel     60\n",
      "1  Tiger Global Management     53\n",
      "2      Andreessen Horowitz     53\n",
      "3    Sequoia Capital China     48\n",
      "4         Insight Partners     47\n"
     ]
    }
   ],
   "source": [
    "investors_list = companies['Select Investors'].str.split(', ')\n",
    "\n",
    "investors_expanded = investors_list.explode().reset_index(drop=True)\n",
    "\n",
    "investor_counts = investors_expanded.value_counts().reset_index().head(5)\n",
    "investor_counts.columns = ['Investor', 'Count']\n",
    "\n",
    "frequent_investors = investor_counts[investor_counts['Count'] > 1]\n",
    "\n",
    "print(frequent_investors)"
   ]
  },
  {
   "cell_type": "code",
   "execution_count": 56,
   "id": "a2c6476f",
   "metadata": {},
   "outputs": [
    {
     "data": {
      "image/png": "[encoded data removed]",
      "text/plain": [
       "<Figure size 720x432 with 1 Axes>"
      ]
     },
     "metadata": {
      "needs_background": "light"
     },
     "output_type": "display_data"
    }
   ],
   "source": [
    "plt.figure(figsize=(10, 6))\n",
    "ax = sns.barplot(y= 'Investor',\n",
    "                 x= 'Count',\n",
    "                 data = investor_counts,\n",
    "                 palette=['#111111','#333333', '#555555','#777777','#999999'])\n",
    "\n",
    "for index, row in investor_counts.iterrows():\n",
    "    ax.text(row['Count'], index, row['Count'], color='black',va=\"center\", fontweight='bold')\n",
    "\n",
    "plt.ylabel(\"Top Investors\",fontsize=10, fontweight= 'bold')\n",
    "plt.title(\"Most frequent Investors\", fontsize=14, fontweight='bold')\n",
    "plt.show()"
   ]
  },
  {
   "cell_type": "code",
   "execution_count": 54,
   "id": "7cdfe385",
   "metadata": {},
   "outputs": [
    {
     "data": {
      "text/html": [
       "<div>\n",
       "<style scoped>\n",
       "    .dataframe tbody tr th:only-of-type {\n",
       "        vertical-align: middle;\n",
       "    }\n",
       "\n",
       "    .dataframe tbody tr th {\n",
       "        vertical-align: top;\n",
       "    }\n",
       "\n",
       "    .dataframe thead th {\n",
       "        text-align: right;\n",
       "    }\n",
       "</style>\n",
       "<table border=\"1\" class=\"dataframe\">\n",
       "  <thead>\n",
       "    <tr style=\"text-align: right;\">\n",
       "      <th></th>\n",
       "      <th>Years To Unicorn</th>\n",
       "    </tr>\n",
       "    <tr>\n",
       "      <th>Industry</th>\n",
       "      <th></th>\n",
       "    </tr>\n",
       "  </thead>\n",
       "  <tbody>\n",
       "    <tr>\n",
       "      <th>Auto &amp; transportation</th>\n",
       "      <td>14</td>\n",
       "    </tr>\n",
       "    <tr>\n",
       "      <th>Travel</th>\n",
       "      <td>14</td>\n",
       "    </tr>\n",
       "    <tr>\n",
       "      <th>Artificial Intelligence</th>\n",
       "      <td>15</td>\n",
       "    </tr>\n",
       "    <tr>\n",
       "      <th>Edtech</th>\n",
       "      <td>17</td>\n",
       "    </tr>\n",
       "    <tr>\n",
       "      <th>Hardware</th>\n",
       "      <td>18</td>\n",
       "    </tr>\n",
       "    <tr>\n",
       "      <th>Mobile &amp; telecommunications</th>\n",
       "      <td>20</td>\n",
       "    </tr>\n",
       "    <tr>\n",
       "      <th>Supply chain, logistics, &amp; delivery</th>\n",
       "      <td>20</td>\n",
       "    </tr>\n",
       "    <tr>\n",
       "      <th>Cybersecurity</th>\n",
       "      <td>21</td>\n",
       "    </tr>\n",
       "    <tr>\n",
       "      <th>Internet software &amp; services</th>\n",
       "      <td>21</td>\n",
       "    </tr>\n",
       "    <tr>\n",
       "      <th>Data management &amp; analytics</th>\n",
       "      <td>22</td>\n",
       "    </tr>\n",
       "    <tr>\n",
       "      <th>E-commerce &amp; direct-to-consumer</th>\n",
       "      <td>24</td>\n",
       "    </tr>\n",
       "    <tr>\n",
       "      <th>Fintech</th>\n",
       "      <td>27</td>\n",
       "    </tr>\n",
       "    <tr>\n",
       "      <th>Consumer &amp; retail</th>\n",
       "      <td>37</td>\n",
       "    </tr>\n",
       "    <tr>\n",
       "      <th>Other</th>\n",
       "      <td>37</td>\n",
       "    </tr>\n",
       "    <tr>\n",
       "      <th>Health</th>\n",
       "      <td>98</td>\n",
       "    </tr>\n",
       "  </tbody>\n",
       "</table>\n",
       "</div>"
      ],
      "text/plain": [
       "                                     Years To Unicorn\n",
       "Industry                                             \n",
       "Auto & transportation                              14\n",
       "Travel                                             14\n",
       "Artificial Intelligence                            15\n",
       "Edtech                                             17\n",
       "Hardware                                           18\n",
       "Mobile & telecommunications                        20\n",
       "Supply chain, logistics, & delivery                20\n",
       "Cybersecurity                                      21\n",
       "Internet software & services                       21\n",
       "Data management & analytics                        22\n",
       "E-commerce & direct-to-consumer                    24\n",
       "Fintech                                            27\n",
       "Consumer & retail                                  37\n",
       "Other                                              37\n",
       "Health                                             98"
      ]
     },
     "execution_count": 54,
     "metadata": {},
     "output_type": "execute_result"
    }
   ],
   "source": [
    "companies_grouped = companies[[\"Industry\",\"Years To Unicorn\"]].groupby('Industry').max().sort_values(by ='Years To Unicorn')\n",
    "companies_grouped"
   ]
  },
  {
   "cell_type": "code",
   "execution_count": 58,
   "id": "800892e0",
   "metadata": {},
   "outputs": [
    {
     "data": {
      "image/png": "[encoded data removed]",
      "text/plain": [
       "<Figure size 720x432 with 1 Axes>"
      ]
     },
     "metadata": {
      "needs_background": "light"
     },
     "output_type": "display_data"
    }
   ],
   "source": [
    "colours = ['#111111','#333333', '#555555','#777777','#999999']\n",
    "plt.figure(figsize=(10, 6))\n",
    "plt.bar(x =companies_grouped.index,\n",
    "        height=companies_grouped['Years To Unicorn'],\n",
    "       color = colours)\n",
    "\n",
    "\n",
    "plt.xlabel(\"Indutry\",fontsize=10, fontweight= 'bold')\n",
    "plt.ylabel(\"Number of years\",fontsize=10, fontweight= 'bold')\n",
    "plt.title(\"Time took to reach unicorn status\", fontsize=14, fontweight='bold')\n",
    "\n",
    "plt.xticks(rotation=45, horizontalalignment='right')\n",
    "\n",
    "plt.show()"
   ]
  },
  {
   "cell_type": "markdown",
   "id": "374695ae",
   "metadata": {},
   "source": [
    "## Recommendation"
   ]
  },
  {
   "cell_type": "markdown",
   "id": "561d1165",
   "metadata": {},
   "source": [
    "The analysis of the unicorn companies' dataset provides a range of insights that can help guide strategic investment decisions. Below are detailed recommendations derived from the data, aimed at maximizing stakeholder returns:\n",
    "\n",
    "   - The data clearly shows that a substantial number of unicorn companies are concentrated within the fintech industry. This suggests that fintech is a fertile ground for innovation and growth. By focusing investments in the fintech sector, stakeholders are likely to tap into opportunities that not only promise high returns but also contribute to the transformation of global financial systems.\n",
    "\n",
    "\n",
    "   - ByteDance, the leading company by valuation, exemplifies the potential of the artificial intelligence (AI) industry. AI is increasingly becoming the backbone of technological innovation, powering applications ranging from machine learning and data analytics to robotics and autonomous systems. Investing in AI not only aligns with current technological trends but also positions stakeholders at the forefront of the next industrial revolution. The AI industry’s capacity to revolutionize various sectors, including healthcare, finance, and logistics, makes it a compelling choice for long-term investment.\n",
    "  \n",
    "  \n",
    "   - The United States emerges as a dominant player in the unicorn landscape, hosting a majority of the companies in our dataset. For stakeholders, prioritizing investments in U.S.-based industries could be particularly advantageous. Not only does this region offer a stable economic environment, but it also provides access to a vast market and cutting-edge research and development capabilities. By leveraging these factors, stakeholders can increase their chances of backing companies with strong growth trajectories and global market reach.\n",
    "\n",
    "\n",
    "   - North America, as a continent, is home to the largest number of unicorn companies, further emphasizing its role as a hub of innovation and technological advancement. While the current dataset does not provide granular details on the specific factors driving this concentration, factors such as regulatory support, access to funding, and technological infrastructure are likely contributors. By gaining a deeper understanding of these elements, we can make more informed decisions and potentially uncover emerging opportunities within the region.\n",
    "\n",
    "\n",
    "   - The period between 2011 and 2015 stands out as a particularly fertile time for the founding of unicorn companies. This trend may be attributed to various factors, including the post-financial crisis economic recovery, advancements in digital technology, and the rise of consumer internet businesses. To replicate the success of these companies,  in-depth analyses of the business models, growth strategies, and market conditions that enabled these firms to achieve rapid unicorn status should be conducted. Understanding the commonalities among these companies could provide valuable insights into identifying and nurturing the next wave of high-growth startups.\n",
    "\n",
    "\n",
    "   - The industries with the highest average valuations—fintech, internet software and services, e-commerce, and artificial intelligence—represent areas of significant growth and market leadership. Each of these sectors is driven by transformative trends, such as the digitalization of financial services, the expansion of online marketplaces, and the increasing integration of AI into various aspects of business and daily life. By diversifying investments across these industries, stakeholders can hedge against sector-specific risks while capitalizing on the overall growth potential of these high-performing markets.\n",
    "\n",
    "\n",
    "   - Our analysis shows that companies within the auto and transportation sector tend to reach unicorn status more quickly than those in other industries. This finding suggests that these companies are often at the forefront of innovation, particularly in areas such as electric vehicles, autonomous driving, and sustainable transportation solutions. For stakeholders looking for quicker returns, investing in the auto and transportation industry could be a strategic move. However, it's important to balance these investments with a long-term perspective, as the industry also faces challenges related to regulation, infrastructure, and market adoption.\n",
    "\n",
    "\n",
    "   - While the health industry has the potential for substantial impact and growth, it also presents unique challenges that can result in longer timelines to reach unicorn status. Factors such as stringent regulatory requirements, the complexity of developing new medical technologies, and the necessity for extensive clinical trials contribute to this extended timeline. Stakeholders interested in this sector should be prepared for a longer investment horizon and should consider strategies that mitigate risk, such as investing in companies with proven technologies or those that have already navigated significant regulatory hurdles. Alternatively, co-investing with partners who have domain expertise in healthcare can also reduce risks and enhance the likelihood of successful outcomes.\n",
    "\n",
    "\n",
    "### Conclusion:\n",
    "By carefully considering these recommendations, stakeholders can make informed investment decisions that align with market trends and the evolving landscape of unicorn companies. Each recommendation is backed by data-driven insights, ensuring that stakeholders are well-positioned to maximize returns while minimizing risks. Further research and continuous monitoring of industry developments are advised to refine these strategies and adapt to emerging opportunities."
   ]
  },
  {
   "cell_type": "code",
   "execution_count": null,
   "id": "dd97c438",
   "metadata": {},
   "outputs": [],
   "source": []
  }
 ],
 "metadata": {
  "kernelspec": {
   "display_name": "Python 3 (ipykernel)",
   "language": "python",
   "name": "python3"
  },
  "language_info": {
   "codemirror_mode": {
    "name": "ipython",
    "version": 3
   },
   "file_extension": ".py",
   "mimetype": "text/x-python",
   "name": "python",
   "nbconvert_exporter": "python",
   "pygments_lexer": "ipython3",
   "version": "3.9.7"
  }
 },
 "nbformat": 4,
 "nbformat_minor": 5
}
